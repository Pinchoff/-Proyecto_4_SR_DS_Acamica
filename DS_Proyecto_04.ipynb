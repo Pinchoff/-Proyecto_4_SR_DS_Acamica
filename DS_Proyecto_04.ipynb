{
 "cells": [
  {
   "cell_type": "markdown",
   "id": "5dbcb091-0a02-4e90-90b7-a80ad56bf151",
   "metadata": {},
   "source": [
    "## Proyecto 4 - Sistemas de Recomendacion \n",
    "\n",
    "En el siguiente notebook se buscará desarrollar un mejor modelo predictivo que el logrado en el proyecto 3 para la plataforma Steam en la recomendación de juegos a los usuarios.\n",
    "\n",
    "Se tiene acceso a dicho proyecto a través del siguiente enlace: https://github.com/Pinchoff/Proyecto_3_SR_DS_Acamica/blob/main/DS_Proyecto_03_SR.ipynb\n",
    "\n",
    "- En primera instancia generare un recomendador simple, donde mostraremos los juegos mas populares y aclamados por los jugadores que tendran una mayor probabilidad de gustar a los usuarios promedio. Este modelo no da recomendaciones personalizadas en base al usuario.\n",
    "- Luego para mejorar el arranque en frio solo dejare a usuarios que han probado mas de un juego.\n",
    "- Continúo en la construcción de un recomendador basado en contenido para poder utilizarlo junto al filtro colaborativo desarrollado en el Proyecto 3 y lograr un recomendador hibrido para obtener recomendaciones mucho más personalizadas.\n",
    "   \n",
    "\n",
    "Para el presente proyecto, se buscará la implementación de un modelo NLP. Dichos modelos son elegidos debido a que en la comunidad son reconocidos como ser muy buenos para predicciones con sistemas de recomendación."
   ]
  },
  {
   "cell_type": "code",
   "execution_count": 1,
   "id": "bd568deb-cda9-4629-b224-1b729fd304c4",
   "metadata": {},
   "outputs": [],
   "source": [
    "#Importo las librerias necesarias \n",
    "\n",
    "import gzip\n",
    "import pandas as pd\n",
    "import numpy as np\n",
    "import gc\n",
    "import seaborn as sns\n",
    "import matplotlib.pyplot as plt\n",
    "\n",
    "from surprise import Dataset\n",
    "from surprise import Reader\n",
    "from surprise.model_selection import train_test_split\n",
    "from surprise import SVD\n",
    "from surprise import accuracy\n",
    "from surprise.model_selection import GridSearchCV\n",
    "\n",
    "from ast import literal_eval\n",
    "\n",
    "from sklearn.metrics.pairwise import linear_kernel, cosine_similarity\n",
    "from sklearn.feature_extraction.text import TfidfVectorizer, CountVectorizer\n",
    "from nltk.stem.snowball import SnowballStemmer\n",
    "from nltk.stem.wordnet import WordNetLemmatizer\n",
    "from nltk.corpus import wordnet\n",
    "import gc\n",
    "\n",
    "#Los datos estan comprimidos\n",
    "def parse(path):\n",
    "    g = gzip.open(path, 'r')\n",
    "    for l in g:\n",
    "        yield eval(l)\n",
    "        \n",
    "import warnings\n",
    "warnings.filterwarnings('ignore')\n",
    "#plotly.tools.set_credentials_file(username='rounakbanik', api_key='xTLaHBy9MVv5szF4Pwan')\n",
    "\n",
    "sns.set_style('whitegrid')\n",
    "sns.set(font_scale=1.25)\n",
    "pd.set_option('display.max_colwidth', 50)"
   ]
  },
  {
   "cell_type": "markdown",
   "id": "232aff5b-7f8c-4a77-979b-562e7bccf1c6",
   "metadata": {},
   "source": [
    "Tenemos a disposición dos datasets, uno de gran tamaño con mas de 7000000 de reviews de los usuarios y el segundo mucho mas pequeño con 32135 juegos y sus caracteristicas.\n",
    "\n",
    "Debido a que la potencia de cálculo que poseo es muy limitada, trabajare con una parte del dataset de gran tamaño y la mitad del dataset de juegos.\n",
    "\n",
    "## Dataset de Reviews"
   ]
  },
  {
   "cell_type": "markdown",
   "id": "d9c37846-8cea-4eef-87f0-26d68b1b5805",
   "metadata": {},
   "source": [
    "Cargo las Reviews ya prepocesada en el Proyecto 3"
   ]
  },
  {
   "cell_type": "code",
   "execution_count": 70,
   "id": "69f33300-100b-4eb5-b01a-2fa53416fae2",
   "metadata": {},
   "outputs": [],
   "source": [
    "data_Rev = pd.read_csv(r'D:/Acamica/Clases Acamica/Sprint 3/Proyecto/Datos_2_Review.csv')"
   ]
  },
  {
   "cell_type": "code",
   "execution_count": 20,
   "id": "49bdaa07-6568-407d-86c5-f9068ad048b4",
   "metadata": {},
   "outputs": [
    {
     "data": {
      "text/html": [
       "<div>\n",
       "<style scoped>\n",
       "    .dataframe tbody tr th:only-of-type {\n",
       "        vertical-align: middle;\n",
       "    }\n",
       "\n",
       "    .dataframe tbody tr th {\n",
       "        vertical-align: top;\n",
       "    }\n",
       "\n",
       "    .dataframe thead th {\n",
       "        text-align: right;\n",
       "    }\n",
       "</style>\n",
       "<table border=\"1\" class=\"dataframe\">\n",
       "  <thead>\n",
       "    <tr style=\"text-align: right;\">\n",
       "      <th></th>\n",
       "      <th>calification</th>\n",
       "      <th>product_id</th>\n",
       "      <th>username</th>\n",
       "    </tr>\n",
       "  </thead>\n",
       "  <tbody>\n",
       "    <tr>\n",
       "      <th>0</th>\n",
       "      <td>1</td>\n",
       "      <td>725280</td>\n",
       "      <td>Chaos Syren</td>\n",
       "    </tr>\n",
       "    <tr>\n",
       "      <th>1</th>\n",
       "      <td>2</td>\n",
       "      <td>328100</td>\n",
       "      <td>hello?&lt;</td>\n",
       "    </tr>\n",
       "  </tbody>\n",
       "</table>\n",
       "</div>"
      ],
      "text/plain": [
       "   calification  product_id     username\n",
       "0             1      725280  Chaos Syren\n",
       "1             2      328100      hello?<"
      ]
     },
     "execution_count": 20,
     "metadata": {},
     "output_type": "execute_result"
    }
   ],
   "source": [
    "data_Rev.head(2)"
   ]
  },
  {
   "cell_type": "markdown",
   "id": "99686d94-8ea0-4888-8bf0-4d979a1a234a",
   "metadata": {},
   "source": [
    "## Dataset de Games\n",
    "\n",
    "Cargo los juegos y preparo el dataset para realizar los recomendadores en especial el recomendador simple y el basado en contenido."
   ]
  },
  {
   "cell_type": "code",
   "execution_count": 29,
   "id": "c49ac294-0ddc-4749-992c-d36010ae80db",
   "metadata": {},
   "outputs": [],
   "source": [
    "contador = 0\n",
    "data_games_little = []\n",
    "\n",
    "n = 2\n",
    "for l in parse('D:/Acamica/Clases Acamica/Sprint 3/Proyecto/steam_games.json.gz'):\n",
    "    if contador%n == 0:\n",
    "        data_games_little.append(l)\n",
    "    else:\n",
    "        pass\n",
    "    contador += 1"
   ]
  },
  {
   "cell_type": "code",
   "execution_count": 30,
   "id": "ad33e3aa-8ad0-4d5e-94c0-0a912a14b0b5",
   "metadata": {},
   "outputs": [
    {
     "data": {
      "text/plain": [
       "(16068, 16)"
      ]
     },
     "execution_count": 30,
     "metadata": {},
     "output_type": "execute_result"
    }
   ],
   "source": [
    "data_games = pd.DataFrame(data_games_little)\n",
    "data_games.shape"
   ]
  },
  {
   "cell_type": "code",
   "execution_count": 31,
   "id": "96d6b17f-d6a7-48ba-9e0c-172977f066ff",
   "metadata": {
    "tags": []
   },
   "outputs": [
    {
     "data": {
      "text/plain": [
       "(16068, 16)"
      ]
     },
     "execution_count": 31,
     "metadata": {},
     "output_type": "execute_result"
    }
   ],
   "source": [
    "data_games.shape"
   ]
  },
  {
   "cell_type": "code",
   "execution_count": 32,
   "id": "5e5f9b75-b5ae-4dff-aca4-b6c014a7df57",
   "metadata": {
    "tags": []
   },
   "outputs": [
    {
     "data": {
      "text/html": [
       "<div>\n",
       "<style scoped>\n",
       "    .dataframe tbody tr th:only-of-type {\n",
       "        vertical-align: middle;\n",
       "    }\n",
       "\n",
       "    .dataframe tbody tr th {\n",
       "        vertical-align: top;\n",
       "    }\n",
       "\n",
       "    .dataframe thead th {\n",
       "        text-align: right;\n",
       "    }\n",
       "</style>\n",
       "<table border=\"1\" class=\"dataframe\">\n",
       "  <thead>\n",
       "    <tr style=\"text-align: right;\">\n",
       "      <th></th>\n",
       "      <th>publisher</th>\n",
       "      <th>genres</th>\n",
       "      <th>app_name</th>\n",
       "      <th>title</th>\n",
       "      <th>url</th>\n",
       "      <th>release_date</th>\n",
       "      <th>tags</th>\n",
       "      <th>discount_price</th>\n",
       "      <th>reviews_url</th>\n",
       "      <th>specs</th>\n",
       "      <th>price</th>\n",
       "      <th>early_access</th>\n",
       "      <th>id</th>\n",
       "      <th>developer</th>\n",
       "      <th>sentiment</th>\n",
       "      <th>metascore</th>\n",
       "    </tr>\n",
       "  </thead>\n",
       "  <tbody>\n",
       "    <tr>\n",
       "      <th>0</th>\n",
       "      <td>Kotoshiro</td>\n",
       "      <td>[Action, Casual, Indie, Simulation, Strategy]</td>\n",
       "      <td>Lost Summoner Kitty</td>\n",
       "      <td>Lost Summoner Kitty</td>\n",
       "      <td>http://store.steampowered.com/app/761140/Lost_...</td>\n",
       "      <td>2018-01-04</td>\n",
       "      <td>[Strategy, Action, Indie, Casual, Simulation]</td>\n",
       "      <td>4.49</td>\n",
       "      <td>http://steamcommunity.com/app/761140/reviews/?...</td>\n",
       "      <td>[Single-player]</td>\n",
       "      <td>4.99</td>\n",
       "      <td>False</td>\n",
       "      <td>761140</td>\n",
       "      <td>Kotoshiro</td>\n",
       "      <td>NaN</td>\n",
       "      <td>NaN</td>\n",
       "    </tr>\n",
       "    <tr>\n",
       "      <th>1</th>\n",
       "      <td>Poolians.com</td>\n",
       "      <td>[Casual, Free to Play, Indie, Simulation, Sports]</td>\n",
       "      <td>Real Pool 3D - Poolians</td>\n",
       "      <td>Real Pool 3D - Poolians</td>\n",
       "      <td>http://store.steampowered.com/app/670290/Real_...</td>\n",
       "      <td>2017-07-24</td>\n",
       "      <td>[Free to Play, Simulation, Sports, Casual, Ind...</td>\n",
       "      <td>NaN</td>\n",
       "      <td>http://steamcommunity.com/app/670290/reviews/?...</td>\n",
       "      <td>[Single-player, Multi-player, Online Multi-Pla...</td>\n",
       "      <td>Free to Play</td>\n",
       "      <td>False</td>\n",
       "      <td>670290</td>\n",
       "      <td>Poolians.com</td>\n",
       "      <td>Mostly Positive</td>\n",
       "      <td>NaN</td>\n",
       "    </tr>\n",
       "  </tbody>\n",
       "</table>\n",
       "</div>"
      ],
      "text/plain": [
       "      publisher                                             genres  \\\n",
       "0     Kotoshiro      [Action, Casual, Indie, Simulation, Strategy]   \n",
       "1  Poolians.com  [Casual, Free to Play, Indie, Simulation, Sports]   \n",
       "\n",
       "                  app_name                    title  \\\n",
       "0      Lost Summoner Kitty      Lost Summoner Kitty   \n",
       "1  Real Pool 3D - Poolians  Real Pool 3D - Poolians   \n",
       "\n",
       "                                                 url release_date  \\\n",
       "0  http://store.steampowered.com/app/761140/Lost_...   2018-01-04   \n",
       "1  http://store.steampowered.com/app/670290/Real_...   2017-07-24   \n",
       "\n",
       "                                                tags  discount_price  \\\n",
       "0      [Strategy, Action, Indie, Casual, Simulation]            4.49   \n",
       "1  [Free to Play, Simulation, Sports, Casual, Ind...             NaN   \n",
       "\n",
       "                                         reviews_url  \\\n",
       "0  http://steamcommunity.com/app/761140/reviews/?...   \n",
       "1  http://steamcommunity.com/app/670290/reviews/?...   \n",
       "\n",
       "                                               specs         price  \\\n",
       "0                                    [Single-player]          4.99   \n",
       "1  [Single-player, Multi-player, Online Multi-Pla...  Free to Play   \n",
       "\n",
       "   early_access      id     developer        sentiment metascore  \n",
       "0         False  761140     Kotoshiro              NaN       NaN  \n",
       "1         False  670290  Poolians.com  Mostly Positive       NaN  "
      ]
     },
     "execution_count": 32,
     "metadata": {},
     "output_type": "execute_result"
    }
   ],
   "source": [
    "data_games.head(2)"
   ]
  },
  {
   "cell_type": "code",
   "execution_count": 33,
   "id": "51b5bfa8-7fcc-4251-9ffa-4ad0723f7771",
   "metadata": {
    "tags": []
   },
   "outputs": [
    {
     "data": {
      "text/plain": [
       "publisher          4067\n",
       "genres             1677\n",
       "app_name              2\n",
       "title              1057\n",
       "url                   0\n",
       "release_date       1066\n",
       "tags                 82\n",
       "discount_price    15951\n",
       "reviews_url           1\n",
       "specs               330\n",
       "price               699\n",
       "early_access          0\n",
       "id                    1\n",
       "developer          1689\n",
       "sentiment          3531\n",
       "metascore         14688\n",
       "dtype: int64"
      ]
     },
     "execution_count": 33,
     "metadata": {},
     "output_type": "execute_result"
    }
   ],
   "source": [
    "data_games.isna().sum()"
   ]
  },
  {
   "cell_type": "code",
   "execution_count": 127,
   "id": "5d0d2111-b0df-4e99-a5f9-1c19d5a300e2",
   "metadata": {},
   "outputs": [],
   "source": [
    "columnas_descartables = ['title','price','discount_price','metascore','reviews_url','early_access','release_date','url','publisher','sentiment']\n",
    "data_Gam = data_games.drop(columnas_descartables,1)"
   ]
  },
  {
   "cell_type": "code",
   "execution_count": 35,
   "id": "12bc7635-9b45-40da-8fb9-337042335f0e",
   "metadata": {},
   "outputs": [
    {
     "data": {
      "text/plain": [
       "(16068, 6)"
      ]
     },
     "execution_count": 35,
     "metadata": {},
     "output_type": "execute_result"
    }
   ],
   "source": [
    "data_Gam.shape"
   ]
  },
  {
   "cell_type": "code",
   "execution_count": 36,
   "id": "62758f33-73ee-4bb8-97e2-a6a0b0a13917",
   "metadata": {},
   "outputs": [
    {
     "data": {
      "text/html": [
       "<div>\n",
       "<style scoped>\n",
       "    .dataframe tbody tr th:only-of-type {\n",
       "        vertical-align: middle;\n",
       "    }\n",
       "\n",
       "    .dataframe tbody tr th {\n",
       "        vertical-align: top;\n",
       "    }\n",
       "\n",
       "    .dataframe thead th {\n",
       "        text-align: right;\n",
       "    }\n",
       "</style>\n",
       "<table border=\"1\" class=\"dataframe\">\n",
       "  <thead>\n",
       "    <tr style=\"text-align: right;\">\n",
       "      <th></th>\n",
       "      <th>genres</th>\n",
       "      <th>app_name</th>\n",
       "      <th>tags</th>\n",
       "      <th>specs</th>\n",
       "      <th>id</th>\n",
       "      <th>developer</th>\n",
       "    </tr>\n",
       "  </thead>\n",
       "  <tbody>\n",
       "    <tr>\n",
       "      <th>0</th>\n",
       "      <td>[Action, Casual, Indie, Simulation, Strategy]</td>\n",
       "      <td>Lost Summoner Kitty</td>\n",
       "      <td>[Strategy, Action, Indie, Casual, Simulation]</td>\n",
       "      <td>[Single-player]</td>\n",
       "      <td>761140</td>\n",
       "      <td>Kotoshiro</td>\n",
       "    </tr>\n",
       "    <tr>\n",
       "      <th>1</th>\n",
       "      <td>[Casual, Free to Play, Indie, Simulation, Sports]</td>\n",
       "      <td>Real Pool 3D - Poolians</td>\n",
       "      <td>[Free to Play, Simulation, Sports, Casual, Ind...</td>\n",
       "      <td>[Single-player, Multi-player, Online Multi-Pla...</td>\n",
       "      <td>670290</td>\n",
       "      <td>Poolians.com</td>\n",
       "    </tr>\n",
       "  </tbody>\n",
       "</table>\n",
       "</div>"
      ],
      "text/plain": [
       "                                              genres                 app_name  \\\n",
       "0      [Action, Casual, Indie, Simulation, Strategy]      Lost Summoner Kitty   \n",
       "1  [Casual, Free to Play, Indie, Simulation, Sports]  Real Pool 3D - Poolians   \n",
       "\n",
       "                                                tags  \\\n",
       "0      [Strategy, Action, Indie, Casual, Simulation]   \n",
       "1  [Free to Play, Simulation, Sports, Casual, Ind...   \n",
       "\n",
       "                                               specs      id     developer  \n",
       "0                                    [Single-player]  761140     Kotoshiro  \n",
       "1  [Single-player, Multi-player, Online Multi-Pla...  670290  Poolians.com  "
      ]
     },
     "execution_count": 36,
     "metadata": {},
     "output_type": "execute_result"
    }
   ],
   "source": [
    "data_Gam.head(2)"
   ]
  },
  {
   "cell_type": "code",
   "execution_count": 37,
   "id": "4ba65901-2827-442a-ba6b-f34b5031523a",
   "metadata": {
    "tags": []
   },
   "outputs": [
    {
     "name": "stdout",
     "output_type": "stream",
     "text": [
      "<class 'pandas.core.frame.DataFrame'>\n",
      "RangeIndex: 16068 entries, 0 to 16067\n",
      "Data columns (total 6 columns):\n",
      " #   Column     Non-Null Count  Dtype \n",
      "---  ------     --------------  ----- \n",
      " 0   genres     14391 non-null  object\n",
      " 1   app_name   16066 non-null  object\n",
      " 2   tags       15986 non-null  object\n",
      " 3   specs      15738 non-null  object\n",
      " 4   id         16067 non-null  object\n",
      " 5   developer  14379 non-null  object\n",
      "dtypes: object(6)\n",
      "memory usage: 753.3+ KB\n"
     ]
    }
   ],
   "source": [
    "data_Gam.info()"
   ]
  },
  {
   "cell_type": "code",
   "execution_count": 38,
   "id": "d14bdf45-8543-4cfc-a92f-2216277f2a6e",
   "metadata": {},
   "outputs": [
    {
     "data": {
      "text/html": [
       "<div>\n",
       "<style scoped>\n",
       "    .dataframe tbody tr th:only-of-type {\n",
       "        vertical-align: middle;\n",
       "    }\n",
       "\n",
       "    .dataframe tbody tr th {\n",
       "        vertical-align: top;\n",
       "    }\n",
       "\n",
       "    .dataframe thead th {\n",
       "        text-align: right;\n",
       "    }\n",
       "</style>\n",
       "<table border=\"1\" class=\"dataframe\">\n",
       "  <thead>\n",
       "    <tr style=\"text-align: right;\">\n",
       "      <th></th>\n",
       "      <th>genres</th>\n",
       "      <th>app_name</th>\n",
       "      <th>tags</th>\n",
       "      <th>specs</th>\n",
       "      <th>developer</th>\n",
       "    </tr>\n",
       "    <tr>\n",
       "      <th>id</th>\n",
       "      <th></th>\n",
       "      <th></th>\n",
       "      <th></th>\n",
       "      <th></th>\n",
       "      <th></th>\n",
       "    </tr>\n",
       "  </thead>\n",
       "  <tbody>\n",
       "    <tr>\n",
       "      <th>761140</th>\n",
       "      <td>[Action, Casual, Indie, Simulation, Strategy]</td>\n",
       "      <td>Lost Summoner Kitty</td>\n",
       "      <td>[Strategy, Action, Indie, Casual, Simulation]</td>\n",
       "      <td>[Single-player]</td>\n",
       "      <td>Kotoshiro</td>\n",
       "    </tr>\n",
       "    <tr>\n",
       "      <th>670290</th>\n",
       "      <td>[Casual, Free to Play, Indie, Simulation, Sports]</td>\n",
       "      <td>Real Pool 3D - Poolians</td>\n",
       "      <td>[Free to Play, Simulation, Sports, Casual, Ind...</td>\n",
       "      <td>[Single-player, Multi-player, Online Multi-Pla...</td>\n",
       "      <td>Poolians.com</td>\n",
       "    </tr>\n",
       "  </tbody>\n",
       "</table>\n",
       "</div>"
      ],
      "text/plain": [
       "                                                   genres  \\\n",
       "id                                                          \n",
       "761140      [Action, Casual, Indie, Simulation, Strategy]   \n",
       "670290  [Casual, Free to Play, Indie, Simulation, Sports]   \n",
       "\n",
       "                       app_name  \\\n",
       "id                                \n",
       "761140      Lost Summoner Kitty   \n",
       "670290  Real Pool 3D - Poolians   \n",
       "\n",
       "                                                     tags  \\\n",
       "id                                                          \n",
       "761140      [Strategy, Action, Indie, Casual, Simulation]   \n",
       "670290  [Free to Play, Simulation, Sports, Casual, Ind...   \n",
       "\n",
       "                                                    specs     developer  \n",
       "id                                                                       \n",
       "761140                                    [Single-player]     Kotoshiro  \n",
       "670290  [Single-player, Multi-player, Online Multi-Pla...  Poolians.com  "
      ]
     },
     "execution_count": 38,
     "metadata": {},
     "output_type": "execute_result"
    }
   ],
   "source": [
    "#Convierto la columna 'id' a enteros \n",
    "data_Gam = data_Gam[data_Gam['id'].notna()]\n",
    "data_Gam['id'] = data_Gam['id'].astype(np.uint32)\n",
    "#Pongo la columna 'id' como indice para luego utilizar .loc[]\n",
    "data_Gam.set_index(['id'],inplace = True)\n",
    "data_Gam.head(2)"
   ]
  },
  {
   "cell_type": "markdown",
   "id": "38477ef2-80c2-4e15-a737-107186aefc00",
   "metadata": {},
   "source": [
    "Agrego la calificación promedio de los juegos y la cantidad de veces que fueron puntuados.\n",
    "\n"
   ]
  },
  {
   "cell_type": "code",
   "execution_count": 39,
   "id": "465a9692-5b25-4db7-99fd-9fdc63f1cedd",
   "metadata": {
    "tags": []
   },
   "outputs": [
    {
     "data": {
      "text/html": [
       "<div>\n",
       "<style scoped>\n",
       "    .dataframe tbody tr th:only-of-type {\n",
       "        vertical-align: middle;\n",
       "    }\n",
       "\n",
       "    .dataframe tbody tr th {\n",
       "        vertical-align: top;\n",
       "    }\n",
       "\n",
       "    .dataframe thead th {\n",
       "        text-align: right;\n",
       "    }\n",
       "</style>\n",
       "<table border=\"1\" class=\"dataframe\">\n",
       "  <thead>\n",
       "    <tr style=\"text-align: right;\">\n",
       "      <th></th>\n",
       "      <th>vote_average</th>\n",
       "      <th>vote_count</th>\n",
       "    </tr>\n",
       "    <tr>\n",
       "      <th>product_id</th>\n",
       "      <th></th>\n",
       "      <th></th>\n",
       "    </tr>\n",
       "  </thead>\n",
       "  <tbody>\n",
       "    <tr>\n",
       "      <th>10</th>\n",
       "      <td>2.342857</td>\n",
       "      <td>175</td>\n",
       "    </tr>\n",
       "    <tr>\n",
       "      <th>20</th>\n",
       "      <td>1.808783</td>\n",
       "      <td>1093</td>\n",
       "    </tr>\n",
       "  </tbody>\n",
       "</table>\n",
       "</div>"
      ],
      "text/plain": [
       "            vote_average  vote_count\n",
       "product_id                          \n",
       "10              2.342857         175\n",
       "20              1.808783        1093"
      ]
     },
     "execution_count": 39,
     "metadata": {},
     "output_type": "execute_result"
    }
   ],
   "source": [
    "#Calculo la media de los juegos calificados y la cantidad de veces guandandolo en game_vote\n",
    "groupe = data_Rev.groupby('product_id')\n",
    "game_vote = pd.DataFrame(groupe['calification'].agg(np.mean))\n",
    "game_vote.rename(columns={'calification':'vote_average'}, inplace=True) \n",
    "game_vote['vote_count'] = data_Rev['product_id'].value_counts()\n",
    "game_vote.head(2)"
   ]
  },
  {
   "cell_type": "code",
   "execution_count": 40,
   "id": "e4639ef9-b15f-4d36-ba58-e8e2fbe224d0",
   "metadata": {
    "tags": []
   },
   "outputs": [
    {
     "data": {
      "text/html": [
       "<div>\n",
       "<style scoped>\n",
       "    .dataframe tbody tr th:only-of-type {\n",
       "        vertical-align: middle;\n",
       "    }\n",
       "\n",
       "    .dataframe tbody tr th {\n",
       "        vertical-align: top;\n",
       "    }\n",
       "\n",
       "    .dataframe thead th {\n",
       "        text-align: right;\n",
       "    }\n",
       "</style>\n",
       "<table border=\"1\" class=\"dataframe\">\n",
       "  <thead>\n",
       "    <tr style=\"text-align: right;\">\n",
       "      <th></th>\n",
       "      <th>genres</th>\n",
       "      <th>app_name</th>\n",
       "      <th>tags</th>\n",
       "      <th>specs</th>\n",
       "      <th>developer</th>\n",
       "    </tr>\n",
       "    <tr>\n",
       "      <th>id</th>\n",
       "      <th></th>\n",
       "      <th></th>\n",
       "      <th></th>\n",
       "      <th></th>\n",
       "      <th></th>\n",
       "    </tr>\n",
       "  </thead>\n",
       "  <tbody>\n",
       "    <tr>\n",
       "      <th>670290</th>\n",
       "      <td>[Casual, Free to Play, Indie, Simulation, Sports]</td>\n",
       "      <td>Real Pool 3D - Poolians</td>\n",
       "      <td>[Free to Play, Simulation, Sports, Casual, Ind...</td>\n",
       "      <td>[Single-player, Multi-player, Online Multi-Pla...</td>\n",
       "      <td>Poolians.com</td>\n",
       "    </tr>\n",
       "    <tr>\n",
       "      <th>765320</th>\n",
       "      <td>[Casual, Indie, Simulation]</td>\n",
       "      <td>Planetarium 2 - Zen Odyssey</td>\n",
       "      <td>[Indie, Casual, Simulation]</td>\n",
       "      <td>[Single-player]</td>\n",
       "      <td>Ghulam Jewel</td>\n",
       "    </tr>\n",
       "    <tr>\n",
       "      <th>70</th>\n",
       "      <td>[Action]</td>\n",
       "      <td>Half-Life</td>\n",
       "      <td>[FPS, Classic, Action, Sci-fi, Singleplayer, S...</td>\n",
       "      <td>[Single-player, Multi-player, Valve Anti-Cheat...</td>\n",
       "      <td>Valve</td>\n",
       "    </tr>\n",
       "    <tr>\n",
       "      <th>716110</th>\n",
       "      <td>[Adventure, Casual, Indie, RPG]</td>\n",
       "      <td>Bitcoin Clicker</td>\n",
       "      <td>[Adventure, RPG, Indie, Casual, Clicker]</td>\n",
       "      <td>[Single-player, Steam Achievements, Partial Co...</td>\n",
       "      <td>lalalaZero,Urbanoff</td>\n",
       "    </tr>\n",
       "    <tr>\n",
       "      <th>1630</th>\n",
       "      <td>[Strategy]</td>\n",
       "      <td>Disciples II: Rise of the Elves</td>\n",
       "      <td>[Strategy, Turn-Based Strategy, Fantasy, Turn-...</td>\n",
       "      <td>[Single-player, Multi-player, Co-op]</td>\n",
       "      <td>Strategy First</td>\n",
       "    </tr>\n",
       "  </tbody>\n",
       "</table>\n",
       "</div>"
      ],
      "text/plain": [
       "                                                   genres  \\\n",
       "id                                                          \n",
       "670290  [Casual, Free to Play, Indie, Simulation, Sports]   \n",
       "765320                        [Casual, Indie, Simulation]   \n",
       "70                                               [Action]   \n",
       "716110                    [Adventure, Casual, Indie, RPG]   \n",
       "1630                                           [Strategy]   \n",
       "\n",
       "                               app_name  \\\n",
       "id                                        \n",
       "670290          Real Pool 3D - Poolians   \n",
       "765320      Planetarium 2 - Zen Odyssey   \n",
       "70                            Half-Life   \n",
       "716110                  Bitcoin Clicker   \n",
       "1630    Disciples II: Rise of the Elves   \n",
       "\n",
       "                                                     tags  \\\n",
       "id                                                          \n",
       "670290  [Free to Play, Simulation, Sports, Casual, Ind...   \n",
       "765320                        [Indie, Casual, Simulation]   \n",
       "70      [FPS, Classic, Action, Sci-fi, Singleplayer, S...   \n",
       "716110           [Adventure, RPG, Indie, Casual, Clicker]   \n",
       "1630    [Strategy, Turn-Based Strategy, Fantasy, Turn-...   \n",
       "\n",
       "                                                    specs            developer  \n",
       "id                                                                              \n",
       "670290  [Single-player, Multi-player, Online Multi-Pla...         Poolians.com  \n",
       "765320                                    [Single-player]         Ghulam Jewel  \n",
       "70      [Single-player, Multi-player, Valve Anti-Cheat...                Valve  \n",
       "716110  [Single-player, Steam Achievements, Partial Co...  lalalaZero,Urbanoff  \n",
       "1630                 [Single-player, Multi-player, Co-op]       Strategy First  "
      ]
     },
     "execution_count": 40,
     "metadata": {},
     "output_type": "execute_result"
    }
   ],
   "source": [
    "#Como trabajo con los datasets incompletos, filtro y dejo solo los juegos que tengo votos\n",
    "data = data_Gam[data_Gam.index.isin(game_vote.index)]\n",
    "data.head()"
   ]
  },
  {
   "cell_type": "code",
   "execution_count": 41,
   "id": "1cc95585-3788-4321-8b8c-3a2c759b9945",
   "metadata": {
    "tags": []
   },
   "outputs": [],
   "source": [
    "#Agrego los votos y calificaciones a los juegos\n",
    "data['vote_count'] = data.index.to_series().map(game_vote['vote_count'])\n",
    "data['vote_average'] = data.index.to_series().map(game_vote['vote_average'])"
   ]
  },
  {
   "cell_type": "code",
   "execution_count": 42,
   "id": "9a7c2346-a08b-464b-9115-6f27b1e072f3",
   "metadata": {},
   "outputs": [
    {
     "data": {
      "text/html": [
       "<div>\n",
       "<style scoped>\n",
       "    .dataframe tbody tr th:only-of-type {\n",
       "        vertical-align: middle;\n",
       "    }\n",
       "\n",
       "    .dataframe tbody tr th {\n",
       "        vertical-align: top;\n",
       "    }\n",
       "\n",
       "    .dataframe thead th {\n",
       "        text-align: right;\n",
       "    }\n",
       "</style>\n",
       "<table border=\"1\" class=\"dataframe\">\n",
       "  <thead>\n",
       "    <tr style=\"text-align: right;\">\n",
       "      <th></th>\n",
       "      <th>genres</th>\n",
       "      <th>app_name</th>\n",
       "      <th>tags</th>\n",
       "      <th>specs</th>\n",
       "      <th>developer</th>\n",
       "      <th>vote_count</th>\n",
       "      <th>vote_average</th>\n",
       "    </tr>\n",
       "    <tr>\n",
       "      <th>id</th>\n",
       "      <th></th>\n",
       "      <th></th>\n",
       "      <th></th>\n",
       "      <th></th>\n",
       "      <th></th>\n",
       "      <th></th>\n",
       "      <th></th>\n",
       "    </tr>\n",
       "  </thead>\n",
       "  <tbody>\n",
       "    <tr>\n",
       "      <th>670290</th>\n",
       "      <td>[Casual, Free to Play, Indie, Simulation, Sports]</td>\n",
       "      <td>Real Pool 3D - Poolians</td>\n",
       "      <td>[Free to Play, Simulation, Sports, Casual, Ind...</td>\n",
       "      <td>[Single-player, Multi-player, Online Multi-Pla...</td>\n",
       "      <td>Poolians.com</td>\n",
       "      <td>15</td>\n",
       "      <td>1.0</td>\n",
       "    </tr>\n",
       "    <tr>\n",
       "      <th>765320</th>\n",
       "      <td>[Casual, Indie, Simulation]</td>\n",
       "      <td>Planetarium 2 - Zen Odyssey</td>\n",
       "      <td>[Indie, Casual, Simulation]</td>\n",
       "      <td>[Single-player]</td>\n",
       "      <td>Ghulam Jewel</td>\n",
       "      <td>2</td>\n",
       "      <td>1.0</td>\n",
       "    </tr>\n",
       "  </tbody>\n",
       "</table>\n",
       "</div>"
      ],
      "text/plain": [
       "                                                   genres  \\\n",
       "id                                                          \n",
       "670290  [Casual, Free to Play, Indie, Simulation, Sports]   \n",
       "765320                        [Casual, Indie, Simulation]   \n",
       "\n",
       "                           app_name  \\\n",
       "id                                    \n",
       "670290      Real Pool 3D - Poolians   \n",
       "765320  Planetarium 2 - Zen Odyssey   \n",
       "\n",
       "                                                     tags  \\\n",
       "id                                                          \n",
       "670290  [Free to Play, Simulation, Sports, Casual, Ind...   \n",
       "765320                        [Indie, Casual, Simulation]   \n",
       "\n",
       "                                                    specs     developer  \\\n",
       "id                                                                        \n",
       "670290  [Single-player, Multi-player, Online Multi-Pla...  Poolians.com   \n",
       "765320                                    [Single-player]  Ghulam Jewel   \n",
       "\n",
       "        vote_count  vote_average  \n",
       "id                                \n",
       "670290          15           1.0  \n",
       "765320           2           1.0  "
      ]
     },
     "execution_count": 42,
     "metadata": {},
     "output_type": "execute_result"
    }
   ],
   "source": [
    "data.head(2)"
   ]
  },
  {
   "cell_type": "markdown",
   "id": "e3c2b400-cfac-4e62-9053-c6b2f0e3e969",
   "metadata": {},
   "source": [
    "## Recomendador Simple\n",
    "\n",
    "Utilizo las calificaciones de TMDB para crear nuestra **Tabla de juegos principales.** Usaré la fórmula de *calificación ponderada* de IMDB para construir mi tabla. Matemáticamente, se representa de la siguiente manera:\n",
    "\n",
    "Calificación ponderada (WR) = $(\\frac{v}{v + m} . R) + (\\frac{m}{v + m} . C)$\n",
    "\n",
    "* *v* es el número de votos para el juego.\n",
    "* *m* son los votos mínimos requeridos para aparecer en la tabla.\n",
    "* *R* es la calificación promedio del juego.\n",
    "* *C* es el voto medio de todo el informe.\n",
    "\n",
    "El siguiente paso es determinar un valor apropiado para *m*, los votos mínimos requeridos para aparecer en la tabla. Usaremos **percentil 95** como nuestro límite. En otras palabras, para que un juego aparezca en las listas, debe tener más votos que al menos el 95% de los juegos de la lista.\n"
   ]
  },
  {
   "cell_type": "code",
   "execution_count": 43,
   "id": "c0aa5ed8-9683-43cd-aedc-b8d069266fae",
   "metadata": {},
   "outputs": [
    {
     "data": {
      "text/plain": [
       "1.5692689344336095"
      ]
     },
     "execution_count": 43,
     "metadata": {},
     "output_type": "execute_result"
    }
   ],
   "source": [
    "vote_counts = data[data['vote_count'].notnull()]['vote_count'].astype('int')\n",
    "vote_averages = data[data['vote_average'].notnull()]['vote_average'].astype('float64')\n",
    "C = vote_averages.mean()\n",
    "C"
   ]
  },
  {
   "cell_type": "code",
   "execution_count": 44,
   "id": "88c7dac4-4d9a-4136-b04d-cb9784e045ad",
   "metadata": {},
   "outputs": [
    {
     "data": {
      "text/plain": [
       "958.0"
      ]
     },
     "execution_count": 44,
     "metadata": {},
     "output_type": "execute_result"
    }
   ],
   "source": [
    "m = vote_counts.quantile(0.95)\n",
    "m"
   ]
  },
  {
   "cell_type": "code",
   "execution_count": 45,
   "id": "36aa8310-e25c-4419-b85e-fc1055592359",
   "metadata": {},
   "outputs": [
    {
     "data": {
      "text/plain": [
       "(374, 4)"
      ]
     },
     "execution_count": 45,
     "metadata": {},
     "output_type": "execute_result"
    }
   ],
   "source": [
    "qualified = data[(data['vote_count'] >= m) & (data['vote_count'].notnull()) & (data['vote_average'].notnull())][['app_name', 'vote_count', 'vote_average','genres']]\n",
    "qualified['vote_count'] = qualified['vote_count'].astype('int')\n",
    "qualified['vote_average'] = qualified['vote_average'].astype('float64')\n",
    "qualified.shape"
   ]
  },
  {
   "cell_type": "code",
   "execution_count": 46,
   "id": "40258791-f679-4e5c-ae42-564deba75e62",
   "metadata": {},
   "outputs": [],
   "source": [
    "def weighted_rating(x):\n",
    "    v = x['vote_count']\n",
    "    R = x['vote_average']\n",
    "    return (v/(v+m) * R) + (m/(m+v) * C)"
   ]
  },
  {
   "cell_type": "code",
   "execution_count": 47,
   "id": "bbbce465-f9d0-464c-b8de-00af181c108b",
   "metadata": {},
   "outputs": [],
   "source": [
    "qualified['wr'] = qualified.apply(weighted_rating, axis=1)"
   ]
  },
  {
   "cell_type": "code",
   "execution_count": 48,
   "id": "e37e5aeb-cb89-4d75-8795-deb6b5da0a0e",
   "metadata": {},
   "outputs": [],
   "source": [
    "qualified = qualified.sort_values('wr', ascending=False).head(250)"
   ]
  },
  {
   "cell_type": "code",
   "execution_count": 49,
   "id": "d618a8c2-2603-4a2a-9bad-561fbf6ff9e6",
   "metadata": {
    "tags": []
   },
   "outputs": [
    {
     "data": {
      "text/html": [
       "<div>\n",
       "<style scoped>\n",
       "    .dataframe tbody tr th:only-of-type {\n",
       "        vertical-align: middle;\n",
       "    }\n",
       "\n",
       "    .dataframe tbody tr th {\n",
       "        vertical-align: top;\n",
       "    }\n",
       "\n",
       "    .dataframe thead th {\n",
       "        text-align: right;\n",
       "    }\n",
       "</style>\n",
       "<table border=\"1\" class=\"dataframe\">\n",
       "  <thead>\n",
       "    <tr style=\"text-align: right;\">\n",
       "      <th></th>\n",
       "      <th>app_name</th>\n",
       "      <th>vote_count</th>\n",
       "      <th>vote_average</th>\n",
       "      <th>genres</th>\n",
       "      <th>wr</th>\n",
       "    </tr>\n",
       "    <tr>\n",
       "      <th>id</th>\n",
       "      <th></th>\n",
       "      <th></th>\n",
       "      <th></th>\n",
       "      <th></th>\n",
       "      <th></th>\n",
       "    </tr>\n",
       "  </thead>\n",
       "  <tbody>\n",
       "    <tr>\n",
       "      <th>48700</th>\n",
       "      <td>Mount &amp; Blade: Warband</td>\n",
       "      <td>18348</td>\n",
       "      <td>3.713974</td>\n",
       "      <td>[Action, RPG]</td>\n",
       "      <td>3.607550</td>\n",
       "    </tr>\n",
       "    <tr>\n",
       "      <th>8930</th>\n",
       "      <td>Sid Meier's Civilization® V</td>\n",
       "      <td>18676</td>\n",
       "      <td>3.676108</td>\n",
       "      <td>[Strategy]</td>\n",
       "      <td>3.573310</td>\n",
       "    </tr>\n",
       "    <tr>\n",
       "      <th>440</th>\n",
       "      <td>Team Fortress 2</td>\n",
       "      <td>91128</td>\n",
       "      <td>3.576091</td>\n",
       "      <td>[Action, Free to Play]</td>\n",
       "      <td>3.555213</td>\n",
       "    </tr>\n",
       "    <tr>\n",
       "      <th>4000</th>\n",
       "      <td>Garry's Mod</td>\n",
       "      <td>24141</td>\n",
       "      <td>3.559546</td>\n",
       "      <td>[Indie, Simulation]</td>\n",
       "      <td>3.483579</td>\n",
       "    </tr>\n",
       "    <tr>\n",
       "      <th>107410</th>\n",
       "      <td>Arma 3</td>\n",
       "      <td>20172</td>\n",
       "      <td>3.570444</td>\n",
       "      <td>[Action, Simulation, Strategy]</td>\n",
       "      <td>3.479714</td>\n",
       "    </tr>\n",
       "    <tr>\n",
       "      <th>427520</th>\n",
       "      <td>Factorio</td>\n",
       "      <td>10478</td>\n",
       "      <td>3.636572</td>\n",
       "      <td>[Casual, Indie, Simulation, Strategy, Early Ac...</td>\n",
       "      <td>3.463393</td>\n",
       "    </tr>\n",
       "    <tr>\n",
       "      <th>252490</th>\n",
       "      <td>Rust</td>\n",
       "      <td>51080</td>\n",
       "      <td>3.494695</td>\n",
       "      <td>[Action, Adventure, Indie, Massively Multiplay...</td>\n",
       "      <td>3.459248</td>\n",
       "    </tr>\n",
       "    <tr>\n",
       "      <th>230410</th>\n",
       "      <td>Warframe</td>\n",
       "      <td>27199</td>\n",
       "      <td>3.524174</td>\n",
       "      <td>[Action, Free to Play]</td>\n",
       "      <td>3.457661</td>\n",
       "    </tr>\n",
       "    <tr>\n",
       "      <th>220200</th>\n",
       "      <td>Kerbal Space Program</td>\n",
       "      <td>16607</td>\n",
       "      <td>3.561691</td>\n",
       "      <td>[Indie, Simulation]</td>\n",
       "      <td>3.453024</td>\n",
       "    </tr>\n",
       "    <tr>\n",
       "      <th>49520</th>\n",
       "      <td>Borderlands 2</td>\n",
       "      <td>36422</td>\n",
       "      <td>3.482813</td>\n",
       "      <td>[Action, RPG]</td>\n",
       "      <td>3.433771</td>\n",
       "    </tr>\n",
       "  </tbody>\n",
       "</table>\n",
       "</div>"
      ],
      "text/plain": [
       "                           app_name  vote_count  vote_average  \\\n",
       "id                                                              \n",
       "48700        Mount & Blade: Warband       18348      3.713974   \n",
       "8930    Sid Meier's Civilization® V       18676      3.676108   \n",
       "440                 Team Fortress 2       91128      3.576091   \n",
       "4000                    Garry's Mod       24141      3.559546   \n",
       "107410                       Arma 3       20172      3.570444   \n",
       "427520                     Factorio       10478      3.636572   \n",
       "252490                         Rust       51080      3.494695   \n",
       "230410                     Warframe       27199      3.524174   \n",
       "220200         Kerbal Space Program       16607      3.561691   \n",
       "49520                 Borderlands 2       36422      3.482813   \n",
       "\n",
       "                                                   genres        wr  \n",
       "id                                                                   \n",
       "48700                                       [Action, RPG]  3.607550  \n",
       "8930                                           [Strategy]  3.573310  \n",
       "440                                [Action, Free to Play]  3.555213  \n",
       "4000                                  [Indie, Simulation]  3.483579  \n",
       "107410                     [Action, Simulation, Strategy]  3.479714  \n",
       "427520  [Casual, Indie, Simulation, Strategy, Early Ac...  3.463393  \n",
       "252490  [Action, Adventure, Indie, Massively Multiplay...  3.459248  \n",
       "230410                             [Action, Free to Play]  3.457661  \n",
       "220200                                [Indie, Simulation]  3.453024  \n",
       "49520                                       [Action, RPG]  3.433771  "
      ]
     },
     "execution_count": 49,
     "metadata": {},
     "output_type": "execute_result"
    }
   ],
   "source": [
    "qualified.head(10)"
   ]
  },
  {
   "cell_type": "markdown",
   "id": "740c9001-427c-4517-bc85-966b2e542ab1",
   "metadata": {},
   "source": [
    "<img src=\"https://cdn.akamai.steamstatic.com/steam/apps/48700/ss_90c40b92912c02e8189d7eec53e4152dac97262b.600x338.jpg?t=1589227310\" width=\"200\" height=\"200\">\n",
    "\n",
    "<img src=\"https://cdn.akamai.steamstatic.com/steam/apps/8930/ss_e6f9ef54f06ffebc9445d8b29d8d2054fa3185d4.600x338.jpg?t=1579731804\" width=\"200\" height=\"200\">\n",
    "\n",
    "<img src=\"https://cdn.akamai.steamstatic.com/steam/apps/440/0000002574.600x338.jpg?t=1592263852\" width=\"200\" height=\"200\">\n"
   ]
  },
  {
   "cell_type": "markdown",
   "id": "a179d4bf-e75d-4f45-92ef-0c4b1d93c653",
   "metadata": {},
   "source": [
    "Podemos ver la eleccion de nuestro recomendador simple, los generos de los juegos son variados, hay un sesgo hacia los juegos de accion (elección de la mayoria de los juagdores), por ser tan simple obtenemos muy buenos resultados."
   ]
  },
  {
   "cell_type": "code",
   "execution_count": 50,
   "id": "7648553c-dae5-4523-b375-3fd93c4ab906",
   "metadata": {},
   "outputs": [],
   "source": [
    "#Guardo\n",
    "if True:\n",
    "    data_Gam.to_csv(r'D:/Acamica/Clases Acamica/Sprint 3/Proyecto/Datos_2_Games.csv', index= True)   "
   ]
  },
  {
   "cell_type": "markdown",
   "id": "a666f571-54d5-490a-916e-8ba70d44ba2a",
   "metadata": {},
   "source": [
    "## Filtro Basado en Contenido \n",
    "\n",
    "Para personalizar nuestras recomendaciones, voy a preparar un motor que calcule la similitud entre juegos en función de ciertas métricas y sugiera juegos que son más similares a un juego en particular que le gustó a un usuario.\n",
    "Comienzo con la construcción de un recomendador usando 'genres','tags', 'specs' y 'developer'. No tenemos una métrica cuantitativa para juzgar el rendimiento de nuestra máquina, por lo que esto tendrá que hacerse cualitativamente.\n"
   ]
  },
  {
   "cell_type": "code",
   "execution_count": 51,
   "id": "d993455a-2da9-4bde-87ce-ce76b225b85f",
   "metadata": {
    "tags": []
   },
   "outputs": [
    {
     "data": {
      "text/html": [
       "<div>\n",
       "<style scoped>\n",
       "    .dataframe tbody tr th:only-of-type {\n",
       "        vertical-align: middle;\n",
       "    }\n",
       "\n",
       "    .dataframe tbody tr th {\n",
       "        vertical-align: top;\n",
       "    }\n",
       "\n",
       "    .dataframe thead th {\n",
       "        text-align: right;\n",
       "    }\n",
       "</style>\n",
       "<table border=\"1\" class=\"dataframe\">\n",
       "  <thead>\n",
       "    <tr style=\"text-align: right;\">\n",
       "      <th></th>\n",
       "      <th>genres</th>\n",
       "      <th>app_name</th>\n",
       "      <th>tags</th>\n",
       "      <th>specs</th>\n",
       "      <th>developer</th>\n",
       "    </tr>\n",
       "    <tr>\n",
       "      <th>id</th>\n",
       "      <th></th>\n",
       "      <th></th>\n",
       "      <th></th>\n",
       "      <th></th>\n",
       "      <th></th>\n",
       "    </tr>\n",
       "  </thead>\n",
       "  <tbody>\n",
       "    <tr>\n",
       "      <th>761140</th>\n",
       "      <td>[Action, Casual, Indie, Simulation, Strategy]</td>\n",
       "      <td>Lost Summoner Kitty</td>\n",
       "      <td>[Strategy, Action, Indie, Casual, Simulation]</td>\n",
       "      <td>[Single-player]</td>\n",
       "      <td>Kotoshiro</td>\n",
       "    </tr>\n",
       "    <tr>\n",
       "      <th>670290</th>\n",
       "      <td>[Casual, Free to Play, Indie, Simulation, Sports]</td>\n",
       "      <td>Real Pool 3D - Poolians</td>\n",
       "      <td>[Free to Play, Simulation, Sports, Casual, Ind...</td>\n",
       "      <td>[Single-player, Multi-player, Online Multi-Pla...</td>\n",
       "      <td>Poolians.com</td>\n",
       "    </tr>\n",
       "  </tbody>\n",
       "</table>\n",
       "</div>"
      ],
      "text/plain": [
       "                                                   genres  \\\n",
       "id                                                          \n",
       "761140      [Action, Casual, Indie, Simulation, Strategy]   \n",
       "670290  [Casual, Free to Play, Indie, Simulation, Sports]   \n",
       "\n",
       "                       app_name  \\\n",
       "id                                \n",
       "761140      Lost Summoner Kitty   \n",
       "670290  Real Pool 3D - Poolians   \n",
       "\n",
       "                                                     tags  \\\n",
       "id                                                          \n",
       "761140      [Strategy, Action, Indie, Casual, Simulation]   \n",
       "670290  [Free to Play, Simulation, Sports, Casual, Ind...   \n",
       "\n",
       "                                                    specs     developer  \n",
       "id                                                                       \n",
       "761140                                    [Single-player]     Kotoshiro  \n",
       "670290  [Single-player, Multi-player, Online Multi-Pla...  Poolians.com  "
      ]
     },
     "execution_count": 51,
     "metadata": {},
     "output_type": "execute_result"
    }
   ],
   "source": [
    "data_Gam.head(2)"
   ]
  },
  {
   "cell_type": "code",
   "execution_count": 52,
   "id": "64b35c34-797b-406a-bec7-be78d72de991",
   "metadata": {},
   "outputs": [],
   "source": [
    "#Relleno los Nan con espacios vacios []\n",
    "data_Gam['genres'] = data_Gam['genres'].fillna('[]')\n",
    "data_Gam['tags'] = data_Gam['tags'].fillna('[]')\n",
    "data_Gam['specs'] = data_Gam['specs'].fillna('[]')\n",
    "data_Gam['developer'] = data_Gam['developer'].fillna('[]')"
   ]
  },
  {
   "cell_type": "code",
   "execution_count": 56,
   "id": "973c3dba-0074-45f2-8f5c-d6375d8b588a",
   "metadata": {},
   "outputs": [],
   "source": [
    "q = data_Gam.apply(lambda x: pd.Series(x['genres']),axis=1).stack().reset_index(level=1, drop=True)\n",
    "i = data_Gam.apply(lambda x: pd.Series(x['tags']),axis=1).stack().reset_index(level=1, drop=True)\n",
    "o = data_Gam.apply(lambda x: pd.Series(x['specs']),axis=1).stack().reset_index(level=1, drop=True)\n",
    "q = q.append(i)\n",
    "q = q.append(o)\n",
    "q = q.append(data_Gam['developer'])"
   ]
  },
  {
   "cell_type": "code",
   "execution_count": 57,
   "id": "f0666633-f477-4b3c-959d-b11bcfa56a4e",
   "metadata": {},
   "outputs": [
    {
     "data": {
      "text/plain": [
       "(210969,)"
      ]
     },
     "execution_count": 57,
     "metadata": {},
     "output_type": "execute_result"
    }
   ],
   "source": [
    "q.shape"
   ]
  },
  {
   "cell_type": "code",
   "execution_count": 58,
   "id": "3659c280-1182-42eb-8a4e-915979a73bcf",
   "metadata": {},
   "outputs": [
    {
     "data": {
      "text/plain": [
       "Indie            16867\n",
       "Single-player    13800\n",
       "Action           12178\n",
       "Casual            9050\n",
       "Adventure         8886\n",
       "dtype: int64"
      ]
     },
     "execution_count": 58,
     "metadata": {},
     "output_type": "execute_result"
    }
   ],
   "source": [
    "q = q.value_counts()\n",
    "q[:5]"
   ]
  },
  {
   "cell_type": "code",
   "execution_count": 59,
   "id": "e4d529de-a6ad-41bf-a1b6-b8a8c33e57c5",
   "metadata": {},
   "outputs": [],
   "source": [
    "q = q[q > 1]"
   ]
  },
  {
   "cell_type": "code",
   "execution_count": 60,
   "id": "21915bac-02e0-4134-9bda-35bbea02bd2b",
   "metadata": {},
   "outputs": [
    {
     "data": {
      "text/plain": [
       "(2306,)"
      ]
     },
     "execution_count": 60,
     "metadata": {},
     "output_type": "execute_result"
    }
   ],
   "source": [
    "q.shape"
   ]
  },
  {
   "cell_type": "code",
   "execution_count": 79,
   "id": "05b6fdaf-a506-42e2-b9e6-1ba24e714c27",
   "metadata": {},
   "outputs": [],
   "source": [
    "#implemento stemmer para reducir una palabra a su raíz \n",
    "stemmer = SnowballStemmer('english')"
   ]
  },
  {
   "cell_type": "code",
   "execution_count": 62,
   "id": "558eb636-2dfd-490f-9b61-78533408dc88",
   "metadata": {},
   "outputs": [],
   "source": [
    "#Filtro de palabras \n",
    "def filter_keywords(x):\n",
    "    words = []\n",
    "    for i in x:\n",
    "        if i in q:\n",
    "            words.append(i)\n",
    "    return words"
   ]
  },
  {
   "cell_type": "code",
   "execution_count": 63,
   "id": "0dc299d8-06b9-45cb-abae-a1d80a5954a5",
   "metadata": {},
   "outputs": [],
   "source": [
    "data_Gam['genres'] = data_Gam['genres'].apply(filter_keywords)\n",
    "data_Gam['genres'] = data_Gam['genres'].apply(lambda x: [stemmer.stem(i) for i in x])\n",
    "data_Gam['genres'] = data_Gam['genres'].apply(lambda x: [str.lower(i.replace(\" \", \"\")) for i in x])\n",
    "data_Gam['tags'] = data_Gam['tags'].apply(filter_keywords)\n",
    "data_Gam['tags'] = data_Gam['tags'].apply(lambda x: [stemmer.stem(i) for i in x])\n",
    "data_Gam['tags'] = data_Gam['tags'].apply(lambda x: [str.lower(i.replace(\" \", \"\")) for i in x])\n",
    "data_Gam['specs'] = data_Gam['specs'].apply(filter_keywords)\n",
    "data_Gam['specs'] = data_Gam['specs'].apply(lambda x: [stemmer.stem(i) for i in x])\n",
    "data_Gam['specs'] = data_Gam['specs'].apply(lambda x: [str.lower(i.replace(\" \", \"\")) for i in x])\n",
    "data_Gam['developer'] = data_Gam['developer'].apply(lambda x: str.lower(x.replace(\" \", \"\")))\n",
    "data_Gam['developer'] = data_Gam['developer'].apply(lambda x: [stemmer.stem(x)])"
   ]
  },
  {
   "cell_type": "code",
   "execution_count": 64,
   "id": "964ac7d0-665f-487d-a5d9-2099bde4c32d",
   "metadata": {
    "tags": []
   },
   "outputs": [],
   "source": [
    "data_Gam['soup'] = data_Gam['specs'] + data_Gam['tags']  + data_Gam['genres'] + data_Gam['developer']\n",
    "data_Gam['soup'] = data_Gam['soup'].apply(lambda x: ' '.join(x))"
   ]
  },
  {
   "cell_type": "code",
   "execution_count": 65,
   "id": "dd5c781e-9df5-455b-a5a3-c55123f8ce93",
   "metadata": {
    "tags": []
   },
   "outputs": [
    {
     "data": {
      "text/html": [
       "<div>\n",
       "<style scoped>\n",
       "    .dataframe tbody tr th:only-of-type {\n",
       "        vertical-align: middle;\n",
       "    }\n",
       "\n",
       "    .dataframe tbody tr th {\n",
       "        vertical-align: top;\n",
       "    }\n",
       "\n",
       "    .dataframe thead th {\n",
       "        text-align: right;\n",
       "    }\n",
       "</style>\n",
       "<table border=\"1\" class=\"dataframe\">\n",
       "  <thead>\n",
       "    <tr style=\"text-align: right;\">\n",
       "      <th></th>\n",
       "      <th>genres</th>\n",
       "      <th>app_name</th>\n",
       "      <th>tags</th>\n",
       "      <th>specs</th>\n",
       "      <th>developer</th>\n",
       "      <th>soup</th>\n",
       "    </tr>\n",
       "    <tr>\n",
       "      <th>id</th>\n",
       "      <th></th>\n",
       "      <th></th>\n",
       "      <th></th>\n",
       "      <th></th>\n",
       "      <th></th>\n",
       "      <th></th>\n",
       "    </tr>\n",
       "  </thead>\n",
       "  <tbody>\n",
       "    <tr>\n",
       "      <th>761140</th>\n",
       "      <td>[action, casual, indi, simul, strategi]</td>\n",
       "      <td>Lost Summoner Kitty</td>\n",
       "      <td>[strategi, action, indi, casual, simul]</td>\n",
       "      <td>[single-play]</td>\n",
       "      <td>[kotoshiro]</td>\n",
       "      <td>single-play strategi action indi casual simul ...</td>\n",
       "    </tr>\n",
       "    <tr>\n",
       "      <th>670290</th>\n",
       "      <td>[casual, freetoplay, indi, simul, sport]</td>\n",
       "      <td>Real Pool 3D - Poolians</td>\n",
       "      <td>[freetoplay, simul, sport, casual, indi, multi...</td>\n",
       "      <td>[single-play, multi-play, onlinemulti-play, in...</td>\n",
       "      <td>[poolians.com]</td>\n",
       "      <td>single-play multi-play onlinemulti-play in-app...</td>\n",
       "    </tr>\n",
       "  </tbody>\n",
       "</table>\n",
       "</div>"
      ],
      "text/plain": [
       "                                          genres                 app_name  \\\n",
       "id                                                                          \n",
       "761140   [action, casual, indi, simul, strategi]      Lost Summoner Kitty   \n",
       "670290  [casual, freetoplay, indi, simul, sport]  Real Pool 3D - Poolians   \n",
       "\n",
       "                                                     tags  \\\n",
       "id                                                          \n",
       "761140            [strategi, action, indi, casual, simul]   \n",
       "670290  [freetoplay, simul, sport, casual, indi, multi...   \n",
       "\n",
       "                                                    specs       developer  \\\n",
       "id                                                                          \n",
       "761140                                      [single-play]     [kotoshiro]   \n",
       "670290  [single-play, multi-play, onlinemulti-play, in...  [poolians.com]   \n",
       "\n",
       "                                                     soup  \n",
       "id                                                         \n",
       "761140  single-play strategi action indi casual simul ...  \n",
       "670290  single-play multi-play onlinemulti-play in-app...  "
      ]
     },
     "execution_count": 65,
     "metadata": {},
     "output_type": "execute_result"
    }
   ],
   "source": [
    "data_Gam.head(2)"
   ]
  },
  {
   "cell_type": "code",
   "execution_count": 68,
   "id": "e2d8a64d-f03e-46ab-bbb4-52bae9abf270",
   "metadata": {
    "tags": []
   },
   "outputs": [
    {
     "data": {
      "text/plain": [
       "'single-play strategi action indi casual simul action casual indi simul strategi kotoshiro'"
      ]
     },
     "execution_count": 68,
     "metadata": {},
     "output_type": "execute_result"
    }
   ],
   "source": [
    "data_Gam.soup[761140]"
   ]
  },
  {
   "cell_type": "code",
   "execution_count": 69,
   "id": "c32495aa-1801-4c4d-a785-e102a9ee562b",
   "metadata": {
    "tags": []
   },
   "outputs": [
    {
     "data": {
      "text/plain": [
       "(16067, 32504)"
      ]
     },
     "execution_count": 69,
     "metadata": {},
     "output_type": "execute_result"
    }
   ],
   "source": [
    "count = CountVectorizer(analyzer='word',ngram_range=(1, 2),min_df=0, stop_words='english')\n",
    "count_matrix = count.fit_transform(data_Gam['soup'])\n",
    "count_matrix.shape"
   ]
  },
  {
   "cell_type": "markdown",
   "id": "80ed313c-078e-4322-a4b0-e1948d442408",
   "metadata": {},
   "source": [
    "#### Cosine Similarity\n",
    "\n",
    "Usaré la similitud de coseno para calcular una cantidad numérica que denote la similitud entre dos juegos. Matemáticamente, se define de la siguiente manera:\n",
    "\n",
    "$cosine(x,y) = \\frac{x. y^\\intercal}{||x||.||y||} $"
   ]
  },
  {
   "cell_type": "code",
   "execution_count": 70,
   "id": "f98d3c85-9ede-4338-85e1-7f132dac0c6c",
   "metadata": {
    "tags": []
   },
   "outputs": [
    {
     "data": {
      "text/plain": [
       "array([1.        , 0.41811291, 0.38769906, ..., 0.70618786, 0.39036003,\n",
       "       0.27322953])"
      ]
     },
     "execution_count": 70,
     "metadata": {},
     "output_type": "execute_result"
    }
   ],
   "source": [
    "cosine_sim = cosine_similarity(count_matrix, count_matrix)\n",
    "cosine_sim[0]"
   ]
  },
  {
   "cell_type": "code",
   "execution_count": 71,
   "id": "31c32af3-916b-4267-8167-564aa19b9067",
   "metadata": {},
   "outputs": [],
   "source": [
    "data_Gam = data_Gam.reset_index()\n",
    "titles = data_Gam['app_name']\n",
    "indices = pd.Series(data_Gam.index, index=data_Gam['app_name'])"
   ]
  },
  {
   "cell_type": "code",
   "execution_count": 72,
   "id": "46bf65e0-21b9-4daa-9c07-79f926be0c64",
   "metadata": {},
   "outputs": [],
   "source": [
    "def get_recommendations(title):\n",
    "    idx = indices[title]\n",
    "    sim_scores = list(enumerate(cosine_sim[idx]))\n",
    "    sim_scores = sorted(sim_scores, key=lambda x: x[1], reverse=True)\n",
    "    sim_scores = sim_scores[1:31]\n",
    "    games_indices = [i[0] for i in sim_scores] \n",
    "    return titles.iloc[games_indices]"
   ]
  },
  {
   "cell_type": "code",
   "execution_count": 81,
   "id": "3525a375-4318-4de6-a5bd-f1e7dd91e8af",
   "metadata": {
    "tags": []
   },
   "outputs": [
    {
     "data": {
      "text/plain": [
       "16053                               Deathmatch Classic\n",
       "16005                           Counter-Strike: Source\n",
       "16056                                    Day of Defeat\n",
       "15720                            Day of Defeat: Source\n",
       "45       QUAKE Mission Pack 2: Dissolution of Eternity\n",
       "15889               INSURGENCY: Modern Infantry Combat\n",
       "14671                            Call of Duty®: Ghosts\n",
       "172                   Call of Duty®: Modern Warfare® 2\n",
       "14172                             Half-Life Soundtrack\n",
       "15896          Tom Clancy's Ghost Recon® Desert Siege™\n",
       "Name: app_name, dtype: object"
      ]
     },
     "execution_count": 81,
     "metadata": {},
     "output_type": "execute_result"
    }
   ],
   "source": [
    "get_recommendations('Counter-Strike').head(10)"
   ]
  },
  {
   "cell_type": "markdown",
   "id": "6b3ffd82-8de0-47b4-815b-4092c919bc91",
   "metadata": {},
   "source": [
    "<img src=\"https://cdn.akamai.steamstatic.com/steam/apps/10/0000000136.600x338.jpg?t=1602535893\" width=\"200\" height=\"200\">\n",
    "\n",
    "<img src=\"https://cdn.akamai.steamstatic.com/steam/apps/40/0000000142.600x338.jpg?t=1568752159\" width=\"200\" height=\"200\">\n",
    "\n",
    "<img src=\"https://cdn.akamai.steamstatic.com/steam/apps/30/0000000171.600x338.jpg?t=1512413490\" width=\"200\" height=\"200\">\n",
    "\n"
   ]
  },
  {
   "cell_type": "code",
   "execution_count": 76,
   "id": "abd233c4-0e0d-4cf2-beb2-f4ddf0c10df9",
   "metadata": {},
   "outputs": [
    {
     "data": {
      "text/plain": [
       "10557                               Ride 2\n",
       "8743              Ride 2 Free Bikes Pack 9\n",
       "11327             Valentino Rossi The Game\n",
       "4159              Ride 2 Free Bikes Pack 2\n",
       "4241              Ride 2 Free Bikes Pack 3\n",
       "4442            Ride 2 2017 Top Bikes Pack\n",
       "9546              Ride 2 Free Bikes Pack 4\n",
       "10376    Ride 2 Limited Edition Bikes Pack\n",
       "12322                    MotoGP™15 Compact\n",
       "9850          Ride 2 Rising Sun Bikes Pack\n",
       "Name: app_name, dtype: object"
      ]
     },
     "execution_count": 76,
     "metadata": {},
     "output_type": "execute_result"
    }
   ],
   "source": [
    "get_recommendations('MotoGP™17').head(10)"
   ]
  },
  {
   "cell_type": "markdown",
   "id": "42da68a6-900b-47dd-a4d0-d5be687023ee",
   "metadata": {},
   "source": [
    "<img src=\"https://cdn.akamai.steamstatic.com/steam/apps/561610/ss_3e8835f1d35495a1066772c40c4e221ca3e5b7a6.600x338.jpg?t=1576506007\" width=\"200\" height=\"200\">\n",
    "\n",
    "<img src=\"https://cdn.akamai.steamstatic.com/steam/apps/477770/ss_0bcc17a32d71edce4fc72d0b4318e21243eaefb8.600x338.jpg?t=1576507292\" width=\"200\" height=\"200\">\n",
    "\n",
    "<img src=\"https://cdn.akamai.steamstatic.com/steam/apps/438430/ss_c5db82e2f0eb4772eb89cc0133caec6a4365a768.600x338.jpg?t=1574434309\" width=\"200\" height=\"200\">\n",
    "\n"
   ]
  },
  {
   "cell_type": "markdown",
   "id": "0df21628-23e1-4831-8bd7-26e07717efde",
   "metadata": {},
   "source": [
    "Estoy mucho más satisfecho con los resultados que obtengo esta vez. Las recomendaciones parecen haber reconocido otros juegos similares (debido al peso que se le dio genero y tags ) y ponerlas como recomendaciones principales. Por supuesto, podemos experimentar con este motor probando diferentes pesos para nuestras funciones (genereos, tags, developer y specs), limitando la cantidad de palabras clave que se pueden usar en la sopa, sopesando los géneros en función de su frecuencia, mostrando solo juegos con el mismo genero, etc.\n",
    "\n",
    "## Filtro Colaborativo \n",
    "\n",
    "Nuestro motor basado en contenido adolece de graves limitaciones. Solo es capaz de sugerir juegos *cercanos* a un juego determinado. Es decir, no es capaz de capturar los gustos y brindar recomendaciones de todos los géneros.\n",
    "\n",
    "Además, el motor que construimos no es realmente personal, ya que no captura los gustos y prejuicios personales de un usuario. Cualquiera que consulte nuestro motor para obtener recomendaciones basadas en un juego recibirá las mismas recomendaciones para ese juego, independientemente de quién sea.\n",
    "\n",
    "Por lo tanto, en esta sección, utilizaremos una técnica llamada **Filtrado colaborativo** para hacer recomendaciones a los jugadores. El filtrado colaborativo se basa en la idea de que los usuarios similares a mí pueden usarse para predecir cuánto me gustará un producto o servicio en particular que esos usuarios han experimentado pero yo no.\n",
    "\n",
    "No implementaré el filtrado colaborativo desde cero. En su lugar, usaré la biblioteca **Surprise** que usó algoritmos extremadamente poderosos como **Descomposición de valores singulares (SVD)** para minimizar el RMSE (Error cuadrático medio) y brindar excelentes recomendaciones.\n",
    "\n",
    "**Elimino los usuarios que solo probaron un juego para disminuir el problema del arranque en frio**"
   ]
  },
  {
   "cell_type": "code",
   "execution_count": 83,
   "id": "637d12a8-e8ce-4e51-9b7f-55b8c8a4e6bc",
   "metadata": {},
   "outputs": [],
   "source": [
    "data_Rev = pd.read_csv(r'D:/Acamica/Clases Acamica/Sprint 3/Proyecto/Datos_2_Review.csv')"
   ]
  },
  {
   "cell_type": "code",
   "execution_count": 84,
   "id": "1eab4fd2-59a5-41cd-89a9-b00d9a758e24",
   "metadata": {},
   "outputs": [
    {
     "data": {
      "text/html": [
       "<div>\n",
       "<style scoped>\n",
       "    .dataframe tbody tr th:only-of-type {\n",
       "        vertical-align: middle;\n",
       "    }\n",
       "\n",
       "    .dataframe tbody tr th {\n",
       "        vertical-align: top;\n",
       "    }\n",
       "\n",
       "    .dataframe thead th {\n",
       "        text-align: right;\n",
       "    }\n",
       "</style>\n",
       "<table border=\"1\" class=\"dataframe\">\n",
       "  <thead>\n",
       "    <tr style=\"text-align: right;\">\n",
       "      <th></th>\n",
       "      <th>username</th>\n",
       "      <th>calification</th>\n",
       "      <th>product_id</th>\n",
       "    </tr>\n",
       "  </thead>\n",
       "  <tbody>\n",
       "    <tr>\n",
       "      <th>0</th>\n",
       "      <td>Chaos Syren</td>\n",
       "      <td>1</td>\n",
       "      <td>725280</td>\n",
       "    </tr>\n",
       "    <tr>\n",
       "      <th>1</th>\n",
       "      <td>hello?&lt;</td>\n",
       "      <td>2</td>\n",
       "      <td>328100</td>\n",
       "    </tr>\n",
       "  </tbody>\n",
       "</table>\n",
       "</div>"
      ],
      "text/plain": [
       "      username  calification  product_id\n",
       "0  Chaos Syren             1      725280\n",
       "1      hello?<             2      328100"
      ]
     },
     "execution_count": 84,
     "metadata": {},
     "output_type": "execute_result"
    }
   ],
   "source": [
    "data_Rev.head(2)"
   ]
  },
  {
   "cell_type": "code",
   "execution_count": 85,
   "id": "d68fafee-4064-4265-a299-18cabd771dc7",
   "metadata": {},
   "outputs": [
    {
     "data": {
      "text/html": [
       "<div>\n",
       "<style scoped>\n",
       "    .dataframe tbody tr th:only-of-type {\n",
       "        vertical-align: middle;\n",
       "    }\n",
       "\n",
       "    .dataframe tbody tr th {\n",
       "        vertical-align: top;\n",
       "    }\n",
       "\n",
       "    .dataframe thead th {\n",
       "        text-align: right;\n",
       "    }\n",
       "</style>\n",
       "<table border=\"1\" class=\"dataframe\">\n",
       "  <thead>\n",
       "    <tr style=\"text-align: right;\">\n",
       "      <th></th>\n",
       "      <th>username</th>\n",
       "    </tr>\n",
       "  </thead>\n",
       "  <tbody>\n",
       "    <tr>\n",
       "      <th>123</th>\n",
       "      <td>True</td>\n",
       "    </tr>\n",
       "    <tr>\n",
       "      <th>Alex</th>\n",
       "      <td>True</td>\n",
       "    </tr>\n",
       "  </tbody>\n",
       "</table>\n",
       "</div>"
      ],
      "text/plain": [
       "      username\n",
       "123       True\n",
       "Alex      True"
      ]
     },
     "execution_count": 85,
     "metadata": {},
     "output_type": "execute_result"
    }
   ],
   "source": [
    "cold = pd.DataFrame(data_Rev['username'].value_counts()>1)\n",
    "cold.head(2)"
   ]
  },
  {
   "cell_type": "code",
   "execution_count": 86,
   "id": "dacc7123-a23f-44fb-bd34-5a0593f3786d",
   "metadata": {},
   "outputs": [],
   "source": [
    "data_Rev = data_Rev.set_index('username')\n",
    "data_Rev['cold'] = data_Rev.index.to_series().map(cold['username'])\n",
    "data_Rev['username'] = data_Rev.index\n",
    "data_Rev.reset_index(drop = True,inplace = True)"
   ]
  },
  {
   "cell_type": "code",
   "execution_count": 87,
   "id": "2c41ccaa-f1fe-41a3-961e-81e538d41c8d",
   "metadata": {},
   "outputs": [
    {
     "data": {
      "text/plain": [
       "(3875815, 4)"
      ]
     },
     "execution_count": 87,
     "metadata": {},
     "output_type": "execute_result"
    }
   ],
   "source": [
    "data_Rev.shape"
   ]
  },
  {
   "cell_type": "code",
   "execution_count": 88,
   "id": "d75da222-cf20-4ea9-b670-a16b1a49e3b2",
   "metadata": {},
   "outputs": [
    {
     "data": {
      "text/plain": [
       "(2802833, 4)"
      ]
     },
     "execution_count": 88,
     "metadata": {},
     "output_type": "execute_result"
    }
   ],
   "source": [
    "data_r = data_Rev[data_Rev['cold']==True]\n",
    "data_r.shape"
   ]
  },
  {
   "cell_type": "code",
   "execution_count": 89,
   "id": "f742fc04-500e-4683-be18-9a3e3b71eb4c",
   "metadata": {},
   "outputs": [],
   "source": [
    "data_Rev.drop('cold',1,inplace=True)"
   ]
  },
  {
   "cell_type": "markdown",
   "id": "733d0afe-ac0d-4c72-9d9a-f9e5a94afcc9",
   "metadata": {},
   "source": [
    "### SVD"
   ]
  },
  {
   "cell_type": "markdown",
   "id": "093fa10a-db8f-4d67-ad13-3ec6c7400236",
   "metadata": {},
   "source": [
    "Realizo un modelo simple sin parametros para utilizar de benchmark"
   ]
  },
  {
   "cell_type": "code",
   "execution_count": 11,
   "id": "3ba4b713-5bb3-408a-84ff-d690f809ba47",
   "metadata": {},
   "outputs": [],
   "source": [
    "reader = Reader()"
   ]
  },
  {
   "cell_type": "code",
   "execution_count": 12,
   "id": "add11752-0d3a-4b35-a0e2-3c085a16655c",
   "metadata": {
    "tags": []
   },
   "outputs": [],
   "source": [
    "df = Dataset.load_from_df(data_r[['username', 'product_id', 'calification']], reader)"
   ]
  },
  {
   "cell_type": "code",
   "execution_count": 16,
   "id": "626bb7df-e34f-4b7b-8f23-95a29651e2bf",
   "metadata": {},
   "outputs": [],
   "source": [
    "#Divido en train y test\n",
    "trainset, testset = train_test_split(df, test_size=.25)"
   ]
  },
  {
   "cell_type": "code",
   "execution_count": 2,
   "id": "10c4e2d2-1379-47ac-9047-7308f57524f2",
   "metadata": {},
   "outputs": [],
   "source": [
    "algo = SVD()"
   ]
  },
  {
   "cell_type": "code",
   "execution_count": 147,
   "id": "10425899-0a91-40b4-8dcd-1b8fdf65432c",
   "metadata": {
    "tags": []
   },
   "outputs": [
    {
     "data": {
      "text/plain": [
       "<surprise.prediction_algorithms.matrix_factorization.SVD at 0x295d6eda280>"
      ]
     },
     "execution_count": 147,
     "metadata": {},
     "output_type": "execute_result"
    }
   ],
   "source": [
    "#entreno\n",
    "algo.fit(trainset)"
   ]
  },
  {
   "cell_type": "code",
   "execution_count": 148,
   "id": "c2d9e6d2-f7d4-4662-9e35-9e1cf0c2a319",
   "metadata": {},
   "outputs": [],
   "source": [
    "#realizo las predicciones \n",
    "predictions = algo.test(testset)"
   ]
  },
  {
   "cell_type": "code",
   "execution_count": 149,
   "id": "82224f71-3eab-4c82-b181-e27b23d28a29",
   "metadata": {},
   "outputs": [
    {
     "name": "stdout",
     "output_type": "stream",
     "text": [
      "RMSE: 0.8445\n"
     ]
    },
    {
     "data": {
      "text/plain": [
       "0.8444568833070987"
      ]
     },
     "execution_count": 149,
     "metadata": {},
     "output_type": "execute_result"
    }
   ],
   "source": [
    "accuracy.rmse(predictions)"
   ]
  },
  {
   "cell_type": "markdown",
   "id": "1161e63c-4573-4818-8427-30ab810e2565",
   "metadata": {},
   "source": [
    "Optenemos un RMSE 4% mejor que el proyecto 3 y sin optimizar "
   ]
  },
  {
   "cell_type": "markdown",
   "id": "4cf3776d-da7b-45ea-b3fb-9a7166d66de9",
   "metadata": {},
   "source": [
    "### Optimizando los hiperparametros\n",
    "\n",
    "preparo una lista de parametros para optimizar el modelo"
   ]
  },
  {
   "cell_type": "code",
   "execution_count": 13,
   "id": "901235f5-9eaa-401b-ab28-de06cc502b27",
   "metadata": {
    "tags": []
   },
   "outputs": [],
   "source": [
    "param_grid = {'n_factors': [4,8,15,16],'n_epochs': [15,18,20,23], 'lr_all': [0.002,0.05,0.010],\n",
    "              'reg_all': [0.01,0.02,0.002,0.4]}\n",
    "\n",
    "gs = GridSearchCV(SVD, param_grid = param_grid, measures=['rmse'], cv=2, n_jobs = -1)\n",
    "\n",
    "gs.fit(df)"
   ]
  },
  {
   "cell_type": "code",
   "execution_count": 14,
   "id": "461203a3-09d2-4c17-8a1a-148874ddfb69",
   "metadata": {},
   "outputs": [
    {
     "name": "stdout",
     "output_type": "stream",
     "text": [
      "0.8504393325873595\n",
      "{'n_factors': 4, 'n_epochs': 15, 'lr_all': 0.01, 'reg_all': 0.02}\n"
     ]
    }
   ],
   "source": [
    "print(gs.best_score['rmse'])\n",
    "print(gs.best_params['rmse'])"
   ]
  },
  {
   "cell_type": "code",
   "execution_count": 17,
   "id": "1aa0e662-2d08-47ce-95dd-02eaecc1039e",
   "metadata": {},
   "outputs": [
    {
     "data": {
      "text/plain": [
       "<surprise.prediction_algorithms.matrix_factorization.SVD at 0x1cfd4e76d90>"
      ]
     },
     "execution_count": 17,
     "metadata": {},
     "output_type": "execute_result"
    }
   ],
   "source": [
    "algo_opt = SVD(n_factors=4, n_epochs=15, lr_all=0.01,reg_all=0.02)\n",
    "algo_opt.fit(trainset)"
   ]
  },
  {
   "cell_type": "code",
   "execution_count": 18,
   "id": "ed24c09e-da9a-4b06-8cbd-e1ae6dc155e3",
   "metadata": {},
   "outputs": [],
   "source": [
    "pred = algo_opt.test(testset)"
   ]
  },
  {
   "cell_type": "code",
   "execution_count": 19,
   "id": "7845ec55-88da-455b-84af-e1b032a25323",
   "metadata": {},
   "outputs": [
    {
     "name": "stdout",
     "output_type": "stream",
     "text": [
      "RMSE: 0.8418\n"
     ]
    },
    {
     "data": {
      "text/plain": [
       "0.8417587949873373"
      ]
     },
     "execution_count": 19,
     "metadata": {},
     "output_type": "execute_result"
    }
   ],
   "source": [
    "accuracy.rmse(pred)"
   ]
  },
  {
   "cell_type": "markdown",
   "id": "7d5fc208-a455-452e-a96a-21d54fbb4427",
   "metadata": {},
   "source": [
    "Mejoro en un 0.31% respecto al modelo no optimizado"
   ]
  },
  {
   "cell_type": "markdown",
   "id": "e2991d93-63eb-47f3-a0cf-c42c07e43dcd",
   "metadata": {
    "tags": []
   },
   "source": [
    "## Recomendador Híbrido"
   ]
  },
  {
   "cell_type": "code",
   "execution_count": 90,
   "id": "4f45fa8e-cdc1-4156-a477-b05a0740620f",
   "metadata": {},
   "outputs": [],
   "source": [
    "def convert_int(x):\n",
    "    try:\n",
    "        return int(x)\n",
    "    except:\n",
    "        return np.nan"
   ]
  },
  {
   "cell_type": "code",
   "execution_count": 91,
   "id": "2f19f09b-d0a8-4d4c-b71e-042543fde329",
   "metadata": {},
   "outputs": [],
   "source": [
    "id_map = pd.read_csv(r'D:/Acamica/Clases Acamica/Sprint 3/Proyecto/Datos_2_Games.csv')[['id', 'app_name']]\n",
    "id_map['id'] = id_map['id'].apply(convert_int)\n",
    "id_map['g_id'] = id_map.index\n",
    "id_map = id_map.set_index('app_name')"
   ]
  },
  {
   "cell_type": "code",
   "execution_count": 92,
   "id": "2d14d4d1-9b12-4932-b8ee-8d5973fbcb6f",
   "metadata": {},
   "outputs": [],
   "source": [
    "indices_map = id_map.set_index('g_id')"
   ]
  },
  {
   "cell_type": "code",
   "execution_count": 93,
   "id": "803ae909-9159-4437-89ba-554dd3818df6",
   "metadata": {},
   "outputs": [],
   "source": [
    "data_Gam['id'] = data_Gam.index\n",
    "data_Gam.reset_index(drop = True,inplace = True)"
   ]
  },
  {
   "cell_type": "code",
   "execution_count": 122,
   "id": "571f69a1-2f62-40d3-bd54-06824dc1b987",
   "metadata": {},
   "outputs": [],
   "source": [
    "def hybrid(username, title):\n",
    "    idx = indices[title]\n",
    "#    print(idx)\n",
    "    Id = id_map.loc[title]['id']\n",
    "    app_name = id_map.loc[title]['g_id']\n",
    "    \n",
    "    sim_scores = list(enumerate(cosine_sim[int(idx)]))\n",
    "    sim_scores = sorted(sim_scores, key=lambda x: x[1], reverse=True)\n",
    "    sim_scores = sim_scores[1:150]\n",
    "    game_indices = [i[0] for i in sim_scores]\n",
    "    \n",
    "    games = data_Gam.iloc[game_indices][['app_name','id']]\n",
    "    games['g_id'] = games.index\n",
    "    games['est'] = games['g_id'].apply(lambda x: algo_opt.predict(username, indices_map.loc[x]['id']).est)\n",
    "    games = games.sort_values('est', ascending=False)\n",
    "    games.drop(['id','g_id'],1,inplace = True)\n",
    "    \n",
    "    return games.head(10)"
   ]
  },
  {
   "cell_type": "code",
   "execution_count": 125,
   "id": "d813e370-a9b2-4f34-bfe2-492b3d29d2e9",
   "metadata": {
    "tags": []
   },
   "outputs": [
    {
     "data": {
      "text/html": [
       "<div>\n",
       "<style scoped>\n",
       "    .dataframe tbody tr th:only-of-type {\n",
       "        vertical-align: middle;\n",
       "    }\n",
       "\n",
       "    .dataframe tbody tr th {\n",
       "        vertical-align: top;\n",
       "    }\n",
       "\n",
       "    .dataframe thead th {\n",
       "        text-align: right;\n",
       "    }\n",
       "</style>\n",
       "<table border=\"1\" class=\"dataframe\">\n",
       "  <thead>\n",
       "    <tr style=\"text-align: right;\">\n",
       "      <th></th>\n",
       "      <th>app_name</th>\n",
       "      <th>est</th>\n",
       "    </tr>\n",
       "  </thead>\n",
       "  <tbody>\n",
       "    <tr>\n",
       "      <th>15003</th>\n",
       "      <td>Arma 3</td>\n",
       "      <td>3.408192</td>\n",
       "    </tr>\n",
       "    <tr>\n",
       "      <th>1619</th>\n",
       "      <td>DRAGON BALL XENOVERSE</td>\n",
       "      <td>3.120793</td>\n",
       "    </tr>\n",
       "    <tr>\n",
       "      <th>2373</th>\n",
       "      <td>Call of Duty®: Black Ops III</td>\n",
       "      <td>3.095888</td>\n",
       "    </tr>\n",
       "    <tr>\n",
       "      <th>3993</th>\n",
       "      <td>Killing Floor 2</td>\n",
       "      <td>2.929810</td>\n",
       "    </tr>\n",
       "    <tr>\n",
       "      <th>15876</th>\n",
       "      <td>Left 4 Dead</td>\n",
       "      <td>2.541631</td>\n",
       "    </tr>\n",
       "    <tr>\n",
       "      <th>273</th>\n",
       "      <td>Call of Duty®: Black Ops</td>\n",
       "      <td>2.453846</td>\n",
       "    </tr>\n",
       "    <tr>\n",
       "      <th>3038</th>\n",
       "      <td>Battleborn</td>\n",
       "      <td>2.448131</td>\n",
       "    </tr>\n",
       "    <tr>\n",
       "      <th>933</th>\n",
       "      <td>Insurgency</td>\n",
       "      <td>2.302985</td>\n",
       "    </tr>\n",
       "    <tr>\n",
       "      <th>15146</th>\n",
       "      <td>Aliens: Colonial Marines - Bug Hunt DLC</td>\n",
       "      <td>2.207042</td>\n",
       "    </tr>\n",
       "    <tr>\n",
       "      <th>693</th>\n",
       "      <td>Aliens: Colonial Marines Sawed-off Double Barr...</td>\n",
       "      <td>2.207042</td>\n",
       "    </tr>\n",
       "  </tbody>\n",
       "</table>\n",
       "</div>"
      ],
      "text/plain": [
       "                                                app_name       est\n",
       "15003                                             Arma 3  3.408192\n",
       "1619                               DRAGON BALL XENOVERSE  3.120793\n",
       "2373                        Call of Duty®: Black Ops III  3.095888\n",
       "3993                                     Killing Floor 2  2.929810\n",
       "15876                                        Left 4 Dead  2.541631\n",
       "273                             Call of Duty®: Black Ops  2.453846\n",
       "3038                                          Battleborn  2.448131\n",
       "933                                           Insurgency  2.302985\n",
       "15146            Aliens: Colonial Marines - Bug Hunt DLC  2.207042\n",
       "693    Aliens: Colonial Marines Sawed-off Double Barr...  2.207042"
      ]
     },
     "execution_count": 125,
     "metadata": {},
     "output_type": "execute_result"
    }
   ],
   "source": [
    "hybrid('Nick','Call of Duty®: Ghosts')"
   ]
  },
  {
   "cell_type": "code",
   "execution_count": 126,
   "id": "a9fbf68a-7893-4f1d-bddb-6310914ab9e6",
   "metadata": {},
   "outputs": [
    {
     "data": {
      "text/html": [
       "<div>\n",
       "<style scoped>\n",
       "    .dataframe tbody tr th:only-of-type {\n",
       "        vertical-align: middle;\n",
       "    }\n",
       "\n",
       "    .dataframe tbody tr th {\n",
       "        vertical-align: top;\n",
       "    }\n",
       "\n",
       "    .dataframe thead th {\n",
       "        text-align: right;\n",
       "    }\n",
       "</style>\n",
       "<table border=\"1\" class=\"dataframe\">\n",
       "  <thead>\n",
       "    <tr style=\"text-align: right;\">\n",
       "      <th></th>\n",
       "      <th>app_name</th>\n",
       "      <th>est</th>\n",
       "    </tr>\n",
       "  </thead>\n",
       "  <tbody>\n",
       "    <tr>\n",
       "      <th>2373</th>\n",
       "      <td>Call of Duty®: Black Ops III</td>\n",
       "      <td>5.000000</td>\n",
       "    </tr>\n",
       "    <tr>\n",
       "      <th>1619</th>\n",
       "      <td>DRAGON BALL XENOVERSE</td>\n",
       "      <td>5.000000</td>\n",
       "    </tr>\n",
       "    <tr>\n",
       "      <th>3993</th>\n",
       "      <td>Killing Floor 2</td>\n",
       "      <td>5.000000</td>\n",
       "    </tr>\n",
       "    <tr>\n",
       "      <th>15003</th>\n",
       "      <td>Arma 3</td>\n",
       "      <td>5.000000</td>\n",
       "    </tr>\n",
       "    <tr>\n",
       "      <th>3038</th>\n",
       "      <td>Battleborn</td>\n",
       "      <td>4.828454</td>\n",
       "    </tr>\n",
       "    <tr>\n",
       "      <th>15876</th>\n",
       "      <td>Left 4 Dead</td>\n",
       "      <td>4.626798</td>\n",
       "    </tr>\n",
       "    <tr>\n",
       "      <th>273</th>\n",
       "      <td>Call of Duty®: Black Ops</td>\n",
       "      <td>4.604869</td>\n",
       "    </tr>\n",
       "    <tr>\n",
       "      <th>16056</th>\n",
       "      <td>Day of Defeat</td>\n",
       "      <td>4.564539</td>\n",
       "    </tr>\n",
       "    <tr>\n",
       "      <th>2454</th>\n",
       "      <td>HELLDIVERS™ - Vehicles Pack</td>\n",
       "      <td>4.404229</td>\n",
       "    </tr>\n",
       "    <tr>\n",
       "      <th>2452</th>\n",
       "      <td>HELLDIVERS™ - Terrain Specialist Pack</td>\n",
       "      <td>4.404229</td>\n",
       "    </tr>\n",
       "  </tbody>\n",
       "</table>\n",
       "</div>"
      ],
      "text/plain": [
       "                                    app_name       est\n",
       "2373            Call of Duty®: Black Ops III  5.000000\n",
       "1619                   DRAGON BALL XENOVERSE  5.000000\n",
       "3993                         Killing Floor 2  5.000000\n",
       "15003                                 Arma 3  5.000000\n",
       "3038                              Battleborn  4.828454\n",
       "15876                            Left 4 Dead  4.626798\n",
       "273                 Call of Duty®: Black Ops  4.604869\n",
       "16056                          Day of Defeat  4.564539\n",
       "2454             HELLDIVERS™ - Vehicles Pack  4.404229\n",
       "2452   HELLDIVERS™ - Terrain Specialist Pack  4.404229"
      ]
     },
     "execution_count": 126,
     "metadata": {},
     "output_type": "execute_result"
    }
   ],
   "source": [
    "hybrid('Tuong','Call of Duty®: Ghosts')"
   ]
  },
  {
   "cell_type": "markdown",
   "id": "c6ee699e-5e54-4ee6-9bbf-8e08d24d8f35",
   "metadata": {},
   "source": [
    "Vemos que para nuestro recomendador híbrido, obtenemos diferentes recomendaciones para diferentes usuarios, aunque el juego es el mismo. Por lo tanto, nuestras recomendaciones son más personalizadas y adaptadas a usuarios particulares.\n",
    "\n",
    "## Conclusión \n",
    "\n",
    "En este proyecto, he construido 4 motores de recomendación diferentes basados en diferentes ideas y algoritmos. Son los siguientes:\n",
    "\n",
    "1. **Recomendador simple:** Este sistema utilizó el recuento de votos y los promedios de votos de TMDB generales para crear gráficos de películas principales, en general y para un género específico. Se utilizó el Sistema de Calificación Ponderada IMDB para calcular las calificaciones en las que finalmente se realizó la clasificación.\n",
    "2. **Recomendador basado en contenido:** Creamos un motor basado en contenido; que tomó los generos de los juegos, los tags, los specs y los desarrolladores para generar predicciones. \n",
    "3. **Filtrado colaborativo:** Usamos la poderosa Biblioteca Surprise para crear un filtro colaborativo basado en la descomposición de un solo valor. El RMSE obtenido fue inferior a 1 y el motor dio calificaciones estimadas para un usuario y un juego determinado.\n",
    "4. **Motor híbrido:** Reunimos ideas de contenido y filtrado colaborativo para crear un motor que ofreciera sugerencias de películas a un usuario en particular en función de las calificaciones estimadas que había calculado internamente para ese usuario."
   ]
  }
 ],
 "metadata": {
  "kernelspec": {
   "display_name": "Python 3",
   "language": "python",
   "name": "python3"
  },
  "language_info": {
   "codemirror_mode": {
    "name": "ipython",
    "version": 3
   },
   "file_extension": ".py",
   "mimetype": "text/x-python",
   "name": "python",
   "nbconvert_exporter": "python",
   "pygments_lexer": "ipython3",
   "version": "3.9.5"
  }
 },
 "nbformat": 4,
 "nbformat_minor": 5
}
